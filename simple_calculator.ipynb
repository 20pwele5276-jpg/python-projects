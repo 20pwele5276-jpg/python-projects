{
  "nbformat": 4,
  "nbformat_minor": 0,
  "metadata": {
    "colab": {
      "provenance": [],
      "toc_visible": true
    },
    "kernelspec": {
      "name": "python3",
      "display_name": "Python 3"
    },
    "language_info": {
      "name": "python"
    }
  },
  "cells": [
    {
      "cell_type": "markdown",
      "source": [
        "SIMPLE_CALCULATOR\n"
      ],
      "metadata": {
        "id": "Qlwlo2z6IYrc"
      }
    },
    {
      "cell_type": "markdown",
      "source": [],
      "metadata": {
        "id": "nRz6Gzt7IX2I"
      }
    },
    {
      "cell_type": "code",
      "source": [
        "# Simple Calculator\n",
        "\n",
        "# Get user input\n",
        "num1 = float(input(\"Enter first number: \"))\n",
        "op = input(\"Select operator (+, -, *, /, %): \")\n",
        "num2 = float(input(\"Enter second number: \"))\n",
        "\n",
        "# Perform operation\n",
        "if op == '+':\n",
        "    result = num1 + num2\n",
        "    print(\"Result =\", result)\n",
        "\n",
        "elif op == '-':\n",
        "    result = num1 - num2\n",
        "    print(\"Result =\", result)\n",
        "\n",
        "elif op == '*':\n",
        "    result = num1 * num2\n",
        "    print(\"Result =\", result)\n",
        "\n",
        "elif op == '/':\n",
        "    if num2 == 0:\n",
        "        print(\"Error: Division by zero not allowed.\")\n",
        "    else:\n",
        "        result = num1 / num2\n",
        "        print(\"Result =\", result)\n",
        "\n",
        "elif op == '%':\n",
        "    if num2 == 0:\n",
        "        print(\"Error: Modulus by zero not allowed.\")\n",
        "    else:\n",
        "        result = num1 % num2\n",
        "        print(\"Result =\", result)\n",
        "\n",
        "else:\n",
        "    print(\"Invalid operator\")\n"
      ],
      "metadata": {
        "colab": {
          "base_uri": "https://localhost:8080/"
        },
        "id": "9_y9w7LYJAHf",
        "outputId": "40efffbf-141a-468a-a8f5-d951ae7cea68"
      },
      "execution_count": 2,
      "outputs": [
        {
          "output_type": "stream",
          "name": "stdout",
          "text": [
            "Enter first number: 2\n",
            "Select operator (+, -, *, /, %): +\n",
            "Enter second number: 4\n",
            "Result = 6.0\n"
          ]
        }
      ]
    }
  ]
}